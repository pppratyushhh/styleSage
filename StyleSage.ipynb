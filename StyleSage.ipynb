{
 "cells": [
  {
   "cell_type": "code",
   "execution_count": 1,
   "id": "be83b0b1",
   "metadata": {},
   "outputs": [
    {
     "name": "stderr",
     "output_type": "stream",
     "text": [
      "100%|██████████| 2228/2228 [08:37<00:00,  4.31it/s]\n"
     ]
    }
   ],
   "source": [
    "import tensorflow\n",
    "from tensorflow.keras.preprocessing import image\n",
    "from tensorflow.keras.layers import GlobalMaxPooling2D\n",
    "from tensorflow.keras.applications.resnet50 import ResNet50,preprocess_input\n",
    "import numpy as np\n",
    "from numpy.linalg import norm \n",
    "import os\n",
    "from tqdm import tqdm \n",
    "import pickle\n",
    "\n",
    "model = ResNet50(weights='imagenet',include_top=False,input_shape=(224,224,3))\n",
    "model.trainable = False\n",
    "\n",
    "model = tensorflow.keras.Sequential([    \n",
    "    model,\n",
    "    GlobalMaxPooling2D()\n",
    "])\n",
    "\n",
    "def extract_features(img_path,model):\n",
    "    img = image.load_img(img_path,target_size=(224,224)) \n",
    "    img_array = image.img_to_array(img)\n",
    "    expanded_img_array = np.expand_dims(img_array, axis=0) \n",
    "    preprocessed_img = preprocess_input(expanded_img_array)\n",
    "    result = model.predict(preprocessed_img).flatten() \n",
    "    normalized_result = result / norm(result)\n",
    "    \n",
    "    return normalized_result\n",
    "\n",
    "filenames = []\n",
    "for file in os.listdir('images'):\n",
    "    filenames.append(os.path.join('images',file))\n",
    "\n",
    "\n",
    "feature_list = []\n",
    "for file in tqdm(filenames):\n",
    "    feature_list.append(extract_features(file,model)) \n",
    "\n",
    "pickle.dump(feature_list,open('embeddings.pkl','wb'))\n",
    "pickle.dump(filenames,open('filenames.pkl','wb'))"
   ]
  },
  {
   "cell_type": "code",
   "execution_count": 2,
   "id": "d8a36312",
   "metadata": {},
   "outputs": [
    {
     "name": "stdout",
     "output_type": "stream",
     "text": [
      "Enter your search: shoe\n"
     ]
    }
   ],
   "source": [
    "import pickle\n",
    "import tensorflow\n",
    "import numpy as np\n",
    "from numpy.linalg import norm\n",
    "from tensorflow.keras.preprocessing import image\n",
    "from tensorflow.keras.layers import GlobalMaxPooling2D\n",
    "from tensorflow.keras.applications.resnet50 import ResNet50,preprocess_input\n",
    "from sklearn.neighbors import NearestNeighbors\n",
    "import cv2\n",
    "# loading the files created above with features and filename of images stored\n",
    "feature_list = np.array(pickle.load(open('embeddings.pkl','rb')))\n",
    "filenames = pickle.load(open('filenames.pkl','rb'))\n",
    "# model loading again for the user input image\n",
    "model = ResNet50(weights='imagenet',include_top=False,input_shape=(224,224,3))\n",
    "model.trainable = False\n",
    "\n",
    "model = tensorflow.keras.Sequential([\n",
    "    model,\n",
    "    GlobalMaxPooling2D()\n",
    "])\n",
    "#sample contains an image of every type in the dataset so that we get the vector through reset of that image. Limitation: input must be from the sample\n",
    "def switch(val):\n",
    "    return{\n",
    "    \"jersey\": image.load_img('sample/jersey.jpg',target_size=(224,224)),\n",
    "        \n",
    "    \"watch\": image.load_img('sample/watch.jpg',target_size=(224,224)),\n",
    "        \n",
    "    \"trouser\": image.load_img('sample/trouser.jpg',target_size=(224,224)),\n",
    "        \n",
    "    \"short\": image.load_img('sample/short.jpg',target_size=(224,224)),\n",
    "        \n",
    "    \"top\": image.load_img('sample/top.jpg',target_size=(224,224)),\n",
    "        \n",
    "    \"skirt\": image.load_img('sample/skirt.jpg',target_size=(224,224)),\n",
    "        \n",
    "       \"shoe\": image.load_img('sample/shoe.jpg',target_size=(224,224)),\n",
    "        \n",
    "    \"sock\": image.load_img('sample/sock.jpg',target_size=(224,224)),\n",
    "    }.get(val,\"nothing\")\n",
    "\n",
    "val = str(input(\"Enter your search: \"))\n",
    "img = switch(val)\n",
    "img_array = image.img_to_array(img)\n",
    "expanded_img_array = np.expand_dims(img_array, axis=0)\n",
    "preprocessed_img = preprocess_input(expanded_img_array)\n",
    "result = model.predict(preprocessed_img).flatten()\n",
    "normalized_result = result / norm(result)\n",
    "\n",
    "neighbors = NearestNeighbors(n_neighbors=6,algorithm='brute',metric='euclidean')\n",
    "neighbors.fit(feature_list)\n",
    "\n",
    "distances,indices = neighbors.kneighbors([normalized_result]) \n",
    "\n",
    "\n",
    "for file in indices[0][1:6]: \n",
    "    temp_img = cv2.imread(filenames[file]) \n",
    "    cv2.imshow('output',cv2.resize(temp_img,(512,512)))\n",
    "    cv2.waitKey(0)"
   ]
  },
  {
   "cell_type": "code",
   "execution_count": null,
   "id": "51158239",
   "metadata": {},
   "outputs": [],
   "source": []
  }
 ],
 "metadata": {
  "kernelspec": {
   "display_name": "Python 3 (ipykernel)",
   "language": "python",
   "name": "python3"
  },
  "language_info": {
   "codemirror_mode": {
    "name": "ipython",
    "version": 3
   },
   "file_extension": ".py",
   "mimetype": "text/x-python",
   "name": "python",
   "nbconvert_exporter": "python",
   "pygments_lexer": "ipython3",
   "version": "3.8.13"
  }
 },
 "nbformat": 4,
 "nbformat_minor": 5
}
